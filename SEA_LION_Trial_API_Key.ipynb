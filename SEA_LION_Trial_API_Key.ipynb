{
  "nbformat": 4,
  "nbformat_minor": 0,
  "metadata": {
    "colab": {
      "provenance": []
    },
    "kernelspec": {
      "name": "python3",
      "display_name": "Python 3"
    },
    "language_info": {
      "name": "python"
    }
  },
  "cells": [
    {
      "cell_type": "markdown",
      "source": [
        "Get a free trial API key from the 🔑 [Key Manager](https://playground.sea-lion.ai/key-manager) in the [SEA-LION Playground](https://playground.sea-lion.ai/).\n",
        "\n",
        "Create the `SEALION_API_KEY` secret in this notebook and paste the value of the SEA-LION API key.\n",
        "\n",
        "SEA-LION's API endpoints for [chat](https://platform.openai.com/docs/api-reference/chat) and [embeddings](https://platform.openai.com/docs/api-reference/embeddings) are fully compatible with OpenAI's API and libraries."
      ],
      "metadata": {
        "id": "9LI1z5xbjMu5"
      }
    },
    {
      "cell_type": "code",
      "source": [
        "from google.colab import userdata\n",
        "from openai import OpenAI\n",
        "\n",
        "client = OpenAI(\n",
        "    api_key=userdata.get('SEALION_API_KEY'),\n",
        "    base_url=\"https://api.sea-lion.ai/\",\n",
        ")\n",
        "\n",
        "completion = client.chat.completions.create(\n",
        "    model=\"aisingapore/gemma2-9b-cpt-sea-lionv3-instruct\",\n",
        "    messages=[\n",
        "        {\"role\": \"system\", \"content\": \"You are a helpful assistant.\"},\n",
        "        {\n",
        "            \"role\": \"user\",\n",
        "            \"content\": \"Translate 'It is a wonderful day today' to SEA languages.\"\n",
        "        }\n",
        "    ]\n",
        ")\n",
        "\n",
        "print(completion.choices[0].message.content)"
      ],
      "metadata": {
        "colab": {
          "base_uri": "https://localhost:8080/"
        },
        "id": "3_g3h3jehIHB",
        "outputId": "b6117a89-778e-40e1-ad2b-b2613d21fa4b"
      },
      "execution_count": 21,
      "outputs": [
        {
          "output_type": "stream",
          "name": "stdout",
          "text": [
            "Here's the translation of \"It is a wonderful day today\" into some major Southeast Asian languages:\n",
            "\n",
            "* **Indonesian:** Hari ini adalah hari yang indah.\n",
            "* **Malaysian (Bahasa Melayu):** Hari ini adalah hari yang indah.\n",
            "* **Thai:** วันนี้เป็นวันที่วิเศษ. (Wan ni pehn watdi wiset.)\n",
            "* **Vietnamese:** Hôm nay là một ngày tuyệt vời.\n",
            "* **Filipino:**  Maganda ang araw ngayon.\n",
            "* **Myanmar (Burmese):** ယနေ့ သဘာဝ ကောင်းသော ရက်ဖြစ်သည်။ (Yan net sabar wa kaung tha yo kyet hsit thei.)  \n",
            "\n",
            "Note: Pronunciation might vary slightly depending on regional dialects. \n",
            "\n",
            "\n"
          ]
        }
      ]
    }
  ]
}